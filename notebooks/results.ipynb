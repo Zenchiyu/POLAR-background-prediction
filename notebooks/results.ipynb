{
 "cells": [
  {
   "cell_type": "markdown",
   "metadata": {},
   "source": [
    "# Jupyter notebook to visualize our results after training PyTorch model\n",
    "\n",
    "Please run this notebook from the notebooks directory.\n",
    "\n",
    "Some useful links:\n",
    "- https://brandonrozek.com/blog/jupyterwithpyenv/\n",
    "\n",
    "- https://github.com/microsoft/vscode-jupyter/wiki/Setting-Up-Run-by-Line-and-Debugging-for-Notebooks"
   ]
  },
  {
   "cell_type": "markdown",
   "metadata": {},
   "source": [
    "### Imports"
   ]
  },
  {
   "cell_type": "code",
   "execution_count": 1,
   "metadata": {},
   "outputs": [
    {
     "name": "stdout",
     "output_type": "stream",
     "text": [
      "Python 3.10.6\n"
     ]
    }
   ],
   "source": [
    "!python --version"
   ]
  },
  {
   "cell_type": "code",
   "execution_count": 2,
   "metadata": {},
   "outputs": [],
   "source": [
    "import sys\n",
    "\n",
    "sys.path.append('../')\n",
    "sys.path.append('../src')"
   ]
  },
  {
   "cell_type": "code",
   "execution_count": 35,
   "metadata": {},
   "outputs": [],
   "source": [
    "import gc\n",
    "import matplotlib\n",
    "import matplotlib.pyplot as plt\n",
    "import numpy as np\n",
    "import pandas as pd\n",
    "import re\n",
    "import torch\n",
    "import warnings\n",
    "\n",
    "from hydra import initialize, compose\n",
    "from ipywidgets import interact, FloatSlider, IntSlider\n",
    "from pathlib import Path\n",
    "from src import *\n",
    "from src.trainer import Trainer\n",
    "from src.visualizer import plot_val_residual, plot_val_pull"
   ]
  },
  {
   "cell_type": "code",
   "execution_count": 4,
   "metadata": {},
   "outputs": [],
   "source": [
    "%matplotlib widget"
   ]
  },
  {
   "cell_type": "markdown",
   "metadata": {},
   "source": [
    "### Load trained model & more"
   ]
  },
  {
   "cell_type": "code",
   "execution_count": 5,
   "metadata": {},
   "outputs": [
    {
     "name": "stdout",
     "output_type": "stream",
     "text": [
      "[array([      0,       1,       2, ..., 3930742, 3930743, 3930744]), array([    250,     251,     506, ..., 3930363, 3930618, 3930619]), array([    252,     253,     508, ..., 3930365, 3930620, 3930621])]\n"
     ]
    },
    {
     "name": "stderr",
     "output_type": "stream",
     "text": [
      "Failed to detect the name of this notebook, you can set it manually with the WANDB_NOTEBOOK_NAME environment variable to enable code saving.\n"
     ]
    }
   ],
   "source": [
    "with initialize(version_base=None, config_path=\"../config\"):\n",
    "    cfg = compose(config_name='trainer.yaml')\n",
    "    cfg.wandb.mode = \"disabled\"\n",
    "\n",
    "    root_filename = \"../\" + cfg.dataset.filename\n",
    "    \n",
    "    # The following assumes that the user already\n",
    "    # ran ../src/visualizer.py prior to this.\n",
    "    # Otherwise, we need to ensure that the way we create the dataset\n",
    "    # did not change since last time the .pkl file was created\n",
    "    p = Path(root_filename)\n",
    "    filename =  f\"{str(p.parent)}/{p.stem}_dataset.pkl\"\n",
    "    if Path(filename).is_file():  # if exists and is a file\n",
    "        cfg.dataset.filename = filename\n",
    "    else:\n",
    "        cfg.dataset.filename = root_filename\n",
    "        cfg.dataset.save_format = \"pkl\"  # to save dataset\n",
    "    \n",
    "    trainer = Trainer(cfg)\n",
    "\n",
    "    ### Loading checkpoint\n",
    "    general_checkpoint = torch.load(\"../checkpoints/last_general_checkpoint.pth\")\n",
    "    trainer.model.load_state_dict(general_checkpoint[\"model_state_dict\"])\n",
    "    trainer.optimizer.load_state_dict(general_checkpoint[\"optimizer_state_dict\"])\n",
    "\n",
    "    trainer.epoch = general_checkpoint[\"epoch\"]\n",
    "    trainer.train_loss = general_checkpoint[\"train_loss\"]\n",
    "    trainer.val_loss = general_checkpoint[\"val_loss\"]\n",
    "    \n",
    "    trainer.model.eval()\n",
    "    torch.set_grad_enabled(False)\n",
    "    # it helps with memory-related issues:\n",
    "    # https://stackoverflow.com/questions/69007342/disable-grad-and-backward-globally\n",
    "    # https://discuss.pytorch.org/t/how-to-delete-a-tensor-in-gpu-to-free-up-memory/48879/15"
   ]
  },
  {
   "cell_type": "code",
   "execution_count": 6,
   "metadata": {},
   "outputs": [
    {
     "data": {
      "text/html": [
       "<div>\n",
       "<style scoped>\n",
       "    .dataframe tbody tr th:only-of-type {\n",
       "        vertical-align: middle;\n",
       "    }\n",
       "\n",
       "    .dataframe tbody tr th {\n",
       "        vertical-align: top;\n",
       "    }\n",
       "\n",
       "    .dataframe thead th {\n",
       "        text-align: right;\n",
       "    }\n",
       "</style>\n",
       "<table border=\"1\" class=\"dataframe\">\n",
       "  <thead>\n",
       "    <tr style=\"text-align: right;\">\n",
       "      <th></th>\n",
       "      <th>unix_time</th>\n",
       "      <th>glat</th>\n",
       "      <th>glon</th>\n",
       "      <th>altitude</th>\n",
       "      <th>temperature</th>\n",
       "      <th>fe_cosmic</th>\n",
       "      <th>corrected</th>\n",
       "      <th>correrr</th>\n",
       "      <th>config</th>\n",
       "      <th>raz</th>\n",
       "      <th>...</th>\n",
       "      <th>1/rate_err[6]**2</th>\n",
       "      <th>1/rate_err[10]**2</th>\n",
       "      <th>1/rate_err[12]**2</th>\n",
       "      <th>rate[0]/rate_err[0]</th>\n",
       "      <th>rate[1]/rate_err[1]</th>\n",
       "      <th>rate[5]/rate_err[5]</th>\n",
       "      <th>rate[6]/rate_err[6]</th>\n",
       "      <th>rate[10]/rate_err[10]</th>\n",
       "      <th>rate[12]/rate_err[12]</th>\n",
       "      <th>(unix_time-1474004181.5460)//5535.4+10</th>\n",
       "    </tr>\n",
       "  </thead>\n",
       "  <tbody>\n",
       "    <tr>\n",
       "      <th>0</th>\n",
       "      <td>1.483525e+09</td>\n",
       "      <td>41.273513</td>\n",
       "      <td>64.930544</td>\n",
       "      <td>376.565432</td>\n",
       "      <td>33.500000</td>\n",
       "      <td>1177.0</td>\n",
       "      <td>1111.225454</td>\n",
       "      <td>0.0</td>\n",
       "      <td>42</td>\n",
       "      <td>335.977594</td>\n",
       "      <td>...</td>\n",
       "      <td>0.000364</td>\n",
       "      <td>0.000260</td>\n",
       "      <td>0.000270</td>\n",
       "      <td>28.621580</td>\n",
       "      <td>22.109620</td>\n",
       "      <td>54.603536</td>\n",
       "      <td>49.826243</td>\n",
       "      <td>58.944945</td>\n",
       "      <td>57.878622</td>\n",
       "      <td>1730.0</td>\n",
       "    </tr>\n",
       "    <tr>\n",
       "      <th>1</th>\n",
       "      <td>1.483525e+09</td>\n",
       "      <td>41.301336</td>\n",
       "      <td>65.091966</td>\n",
       "      <td>376.553905</td>\n",
       "      <td>33.500000</td>\n",
       "      <td>1185.0</td>\n",
       "      <td>1077.260702</td>\n",
       "      <td>0.0</td>\n",
       "      <td>42</td>\n",
       "      <td>336.125659</td>\n",
       "      <td>...</td>\n",
       "      <td>0.000348</td>\n",
       "      <td>0.000256</td>\n",
       "      <td>0.000257</td>\n",
       "      <td>27.929632</td>\n",
       "      <td>21.788451</td>\n",
       "      <td>54.791671</td>\n",
       "      <td>50.310019</td>\n",
       "      <td>58.843234</td>\n",
       "      <td>58.802215</td>\n",
       "      <td>1730.0</td>\n",
       "    </tr>\n",
       "    <tr>\n",
       "      <th>2</th>\n",
       "      <td>1.483525e+09</td>\n",
       "      <td>41.301336</td>\n",
       "      <td>65.091966</td>\n",
       "      <td>376.553905</td>\n",
       "      <td>33.500000</td>\n",
       "      <td>1185.0</td>\n",
       "      <td>1067.501924</td>\n",
       "      <td>0.0</td>\n",
       "      <td>42</td>\n",
       "      <td>336.125659</td>\n",
       "      <td>...</td>\n",
       "      <td>0.000348</td>\n",
       "      <td>0.000252</td>\n",
       "      <td>0.000253</td>\n",
       "      <td>27.636904</td>\n",
       "      <td>21.803819</td>\n",
       "      <td>54.403405</td>\n",
       "      <td>50.046106</td>\n",
       "      <td>58.948036</td>\n",
       "      <td>58.898361</td>\n",
       "      <td>1730.0</td>\n",
       "    </tr>\n",
       "    <tr>\n",
       "      <th>3</th>\n",
       "      <td>1.483525e+09</td>\n",
       "      <td>41.328899</td>\n",
       "      <td>65.253475</td>\n",
       "      <td>376.536191</td>\n",
       "      <td>33.500000</td>\n",
       "      <td>2154.0</td>\n",
       "      <td>1108.812904</td>\n",
       "      <td>0.0</td>\n",
       "      <td>42</td>\n",
       "      <td>336.273850</td>\n",
       "      <td>...</td>\n",
       "      <td>0.000343</td>\n",
       "      <td>0.000246</td>\n",
       "      <td>0.000247</td>\n",
       "      <td>28.166676</td>\n",
       "      <td>21.966212</td>\n",
       "      <td>55.363248</td>\n",
       "      <td>50.761011</td>\n",
       "      <td>60.010819</td>\n",
       "      <td>59.940325</td>\n",
       "      <td>1730.0</td>\n",
       "    </tr>\n",
       "    <tr>\n",
       "      <th>4</th>\n",
       "      <td>1.483525e+09</td>\n",
       "      <td>41.328899</td>\n",
       "      <td>65.253475</td>\n",
       "      <td>376.536191</td>\n",
       "      <td>33.500000</td>\n",
       "      <td>2154.0</td>\n",
       "      <td>1110.524550</td>\n",
       "      <td>0.0</td>\n",
       "      <td>42</td>\n",
       "      <td>336.273850</td>\n",
       "      <td>...</td>\n",
       "      <td>0.000349</td>\n",
       "      <td>0.000251</td>\n",
       "      <td>0.000252</td>\n",
       "      <td>28.515913</td>\n",
       "      <td>22.481051</td>\n",
       "      <td>55.182131</td>\n",
       "      <td>50.641369</td>\n",
       "      <td>59.763522</td>\n",
       "      <td>59.708677</td>\n",
       "      <td>1730.0</td>\n",
       "    </tr>\n",
       "    <tr>\n",
       "      <th>...</th>\n",
       "      <td>...</td>\n",
       "      <td>...</td>\n",
       "      <td>...</td>\n",
       "      <td>...</td>\n",
       "      <td>...</td>\n",
       "      <td>...</td>\n",
       "      <td>...</td>\n",
       "      <td>...</td>\n",
       "      <td>...</td>\n",
       "      <td>...</td>\n",
       "      <td>...</td>\n",
       "      <td>...</td>\n",
       "      <td>...</td>\n",
       "      <td>...</td>\n",
       "      <td>...</td>\n",
       "      <td>...</td>\n",
       "      <td>...</td>\n",
       "      <td>...</td>\n",
       "      <td>...</td>\n",
       "      <td>...</td>\n",
       "      <td>...</td>\n",
       "    </tr>\n",
       "    <tr>\n",
       "      <th>3956641</th>\n",
       "      <td>1.489745e+09</td>\n",
       "      <td>-42.757777</td>\n",
       "      <td>126.189354</td>\n",
       "      <td>386.590141</td>\n",
       "      <td>34.400002</td>\n",
       "      <td>24460.0</td>\n",
       "      <td>1946.386405</td>\n",
       "      <td>0.0</td>\n",
       "      <td>42</td>\n",
       "      <td>91.466481</td>\n",
       "      <td>...</td>\n",
       "      <td>0.000197</td>\n",
       "      <td>0.000132</td>\n",
       "      <td>0.000132</td>\n",
       "      <td>39.073977</td>\n",
       "      <td>29.911732</td>\n",
       "      <td>73.389050</td>\n",
       "      <td>66.531368</td>\n",
       "      <td>80.931946</td>\n",
       "      <td>80.931946</td>\n",
       "      <td>2853.0</td>\n",
       "    </tr>\n",
       "    <tr>\n",
       "      <th>3956642</th>\n",
       "      <td>1.489745e+09</td>\n",
       "      <td>-42.758912</td>\n",
       "      <td>126.358379</td>\n",
       "      <td>386.578593</td>\n",
       "      <td>34.400002</td>\n",
       "      <td>24778.0</td>\n",
       "      <td>2020.254206</td>\n",
       "      <td>0.0</td>\n",
       "      <td>42</td>\n",
       "      <td>91.614903</td>\n",
       "      <td>...</td>\n",
       "      <td>0.000191</td>\n",
       "      <td>0.000130</td>\n",
       "      <td>0.000130</td>\n",
       "      <td>40.109691</td>\n",
       "      <td>31.212337</td>\n",
       "      <td>74.295432</td>\n",
       "      <td>67.827269</td>\n",
       "      <td>81.857269</td>\n",
       "      <td>81.857269</td>\n",
       "      <td>2853.0</td>\n",
       "    </tr>\n",
       "    <tr>\n",
       "      <th>3956643</th>\n",
       "      <td>1.489745e+09</td>\n",
       "      <td>-42.758912</td>\n",
       "      <td>126.358379</td>\n",
       "      <td>386.578593</td>\n",
       "      <td>34.400002</td>\n",
       "      <td>24778.0</td>\n",
       "      <td>1960.692600</td>\n",
       "      <td>0.0</td>\n",
       "      <td>42</td>\n",
       "      <td>91.614903</td>\n",
       "      <td>...</td>\n",
       "      <td>0.000197</td>\n",
       "      <td>0.000133</td>\n",
       "      <td>0.000133</td>\n",
       "      <td>39.401131</td>\n",
       "      <td>30.389685</td>\n",
       "      <td>73.269094</td>\n",
       "      <td>66.799552</td>\n",
       "      <td>81.149886</td>\n",
       "      <td>81.139297</td>\n",
       "      <td>2853.0</td>\n",
       "    </tr>\n",
       "    <tr>\n",
       "      <th>3956644</th>\n",
       "      <td>1.489745e+09</td>\n",
       "      <td>-42.759779</td>\n",
       "      <td>126.527354</td>\n",
       "      <td>386.562382</td>\n",
       "      <td>34.400002</td>\n",
       "      <td>24223.0</td>\n",
       "      <td>2001.103329</td>\n",
       "      <td>0.0</td>\n",
       "      <td>42</td>\n",
       "      <td>91.763169</td>\n",
       "      <td>...</td>\n",
       "      <td>0.000202</td>\n",
       "      <td>0.000133</td>\n",
       "      <td>0.000133</td>\n",
       "      <td>39.691491</td>\n",
       "      <td>30.651826</td>\n",
       "      <td>72.450085</td>\n",
       "      <td>65.728584</td>\n",
       "      <td>80.722957</td>\n",
       "      <td>80.711165</td>\n",
       "      <td>2853.0</td>\n",
       "    </tr>\n",
       "    <tr>\n",
       "      <th>3956645</th>\n",
       "      <td>1.489745e+09</td>\n",
       "      <td>-42.759779</td>\n",
       "      <td>126.527354</td>\n",
       "      <td>386.562382</td>\n",
       "      <td>34.400002</td>\n",
       "      <td>24223.0</td>\n",
       "      <td>2006.959229</td>\n",
       "      <td>0.0</td>\n",
       "      <td>42</td>\n",
       "      <td>91.763169</td>\n",
       "      <td>...</td>\n",
       "      <td>0.000199</td>\n",
       "      <td>0.000133</td>\n",
       "      <td>0.000133</td>\n",
       "      <td>39.764508</td>\n",
       "      <td>31.075422</td>\n",
       "      <td>72.553117</td>\n",
       "      <td>66.065640</td>\n",
       "      <td>80.445606</td>\n",
       "      <td>80.445606</td>\n",
       "      <td>2853.0</td>\n",
       "    </tr>\n",
       "  </tbody>\n",
       "</table>\n",
       "<p>3930745 rows × 60 columns</p>\n",
       "</div>"
      ],
      "text/plain": [
       "            unix_time       glat        glon    altitude  temperature  \\\n",
       "0        1.483525e+09  41.273513   64.930544  376.565432    33.500000   \n",
       "1        1.483525e+09  41.301336   65.091966  376.553905    33.500000   \n",
       "2        1.483525e+09  41.301336   65.091966  376.553905    33.500000   \n",
       "3        1.483525e+09  41.328899   65.253475  376.536191    33.500000   \n",
       "4        1.483525e+09  41.328899   65.253475  376.536191    33.500000   \n",
       "...               ...        ...         ...         ...          ...   \n",
       "3956641  1.489745e+09 -42.757777  126.189354  386.590141    34.400002   \n",
       "3956642  1.489745e+09 -42.758912  126.358379  386.578593    34.400002   \n",
       "3956643  1.489745e+09 -42.758912  126.358379  386.578593    34.400002   \n",
       "3956644  1.489745e+09 -42.759779  126.527354  386.562382    34.400002   \n",
       "3956645  1.489745e+09 -42.759779  126.527354  386.562382    34.400002   \n",
       "\n",
       "         fe_cosmic    corrected  correrr  config         raz  ...  \\\n",
       "0           1177.0  1111.225454      0.0      42  335.977594  ...   \n",
       "1           1185.0  1077.260702      0.0      42  336.125659  ...   \n",
       "2           1185.0  1067.501924      0.0      42  336.125659  ...   \n",
       "3           2154.0  1108.812904      0.0      42  336.273850  ...   \n",
       "4           2154.0  1110.524550      0.0      42  336.273850  ...   \n",
       "...            ...          ...      ...     ...         ...  ...   \n",
       "3956641    24460.0  1946.386405      0.0      42   91.466481  ...   \n",
       "3956642    24778.0  2020.254206      0.0      42   91.614903  ...   \n",
       "3956643    24778.0  1960.692600      0.0      42   91.614903  ...   \n",
       "3956644    24223.0  2001.103329      0.0      42   91.763169  ...   \n",
       "3956645    24223.0  2006.959229      0.0      42   91.763169  ...   \n",
       "\n",
       "         1/rate_err[6]**2  1/rate_err[10]**2  1/rate_err[12]**2  \\\n",
       "0                0.000364           0.000260           0.000270   \n",
       "1                0.000348           0.000256           0.000257   \n",
       "2                0.000348           0.000252           0.000253   \n",
       "3                0.000343           0.000246           0.000247   \n",
       "4                0.000349           0.000251           0.000252   \n",
       "...                   ...                ...                ...   \n",
       "3956641          0.000197           0.000132           0.000132   \n",
       "3956642          0.000191           0.000130           0.000130   \n",
       "3956643          0.000197           0.000133           0.000133   \n",
       "3956644          0.000202           0.000133           0.000133   \n",
       "3956645          0.000199           0.000133           0.000133   \n",
       "\n",
       "         rate[0]/rate_err[0]  rate[1]/rate_err[1]  rate[5]/rate_err[5]  \\\n",
       "0                  28.621580            22.109620            54.603536   \n",
       "1                  27.929632            21.788451            54.791671   \n",
       "2                  27.636904            21.803819            54.403405   \n",
       "3                  28.166676            21.966212            55.363248   \n",
       "4                  28.515913            22.481051            55.182131   \n",
       "...                      ...                  ...                  ...   \n",
       "3956641            39.073977            29.911732            73.389050   \n",
       "3956642            40.109691            31.212337            74.295432   \n",
       "3956643            39.401131            30.389685            73.269094   \n",
       "3956644            39.691491            30.651826            72.450085   \n",
       "3956645            39.764508            31.075422            72.553117   \n",
       "\n",
       "         rate[6]/rate_err[6]  rate[10]/rate_err[10]  rate[12]/rate_err[12]  \\\n",
       "0                  49.826243              58.944945              57.878622   \n",
       "1                  50.310019              58.843234              58.802215   \n",
       "2                  50.046106              58.948036              58.898361   \n",
       "3                  50.761011              60.010819              59.940325   \n",
       "4                  50.641369              59.763522              59.708677   \n",
       "...                      ...                    ...                    ...   \n",
       "3956641            66.531368              80.931946              80.931946   \n",
       "3956642            67.827269              81.857269              81.857269   \n",
       "3956643            66.799552              81.149886              81.139297   \n",
       "3956644            65.728584              80.722957              80.711165   \n",
       "3956645            66.065640              80.445606              80.445606   \n",
       "\n",
       "         (unix_time-1474004181.5460)//5535.4+10  \n",
       "0                                        1730.0  \n",
       "1                                        1730.0  \n",
       "2                                        1730.0  \n",
       "3                                        1730.0  \n",
       "4                                        1730.0  \n",
       "...                                         ...  \n",
       "3956641                                  2853.0  \n",
       "3956642                                  2853.0  \n",
       "3956643                                  2853.0  \n",
       "3956644                                  2853.0  \n",
       "3956645                                  2853.0  \n",
       "\n",
       "[3930745 rows x 60 columns]"
      ]
     },
     "execution_count": 6,
     "metadata": {},
     "output_type": "execute_result"
    }
   ],
   "source": [
    "trainer.dataset_full.data_df"
   ]
  },
  {
   "cell_type": "markdown",
   "metadata": {},
   "source": [
    "### Recreate dataset that includes the GRBs we've removed + Apply model"
   ]
  },
  {
   "cell_type": "code",
   "execution_count": 7,
   "metadata": {},
   "outputs": [
    {
     "name": "stderr",
     "output_type": "stream",
     "text": [
      "<string>:1: RuntimeWarning: divide by zero encountered in divide\n",
      "<string>:1: RuntimeWarning: invalid value encountered in divide\n"
     ]
    },
    {
     "name": "stdout",
     "output_type": "stream",
     "text": [
      "[array([      0,       1,       2, ..., 3935515, 3935516, 3935517]), array([    250,     251,     506, ..., 3935227, 3935482, 3935483]), array([    252,     253,     508, ..., 3935229, 3935484, 3935485])]\n"
     ]
    }
   ],
   "source": [
    "# init trainer with a dataset that doesn't filter out the\n",
    "# GRBs -> we only use it to obtain the dataset with GRBs\n",
    "# may take some time as it recreates the dataset\n",
    "cfg.dataset.filename = root_filename\n",
    "cfg.dataset.save_format = None\n",
    "cfg.dataset.filter_conditions = [\"rate[0]/rate_err[0] > 20\"]\n",
    "trainer_with_GRBs = Trainer(cfg)\n",
    "dataset_full_GRBs = trainer_with_GRBs.dataset_full"
   ]
  },
  {
   "cell_type": "markdown",
   "metadata": {},
   "source": [
    "Apply our model on that dataset (do predictions)"
   ]
  },
  {
   "cell_type": "code",
   "execution_count": 8,
   "metadata": {},
   "outputs": [],
   "source": [
    "from torch.utils.data import Subset\n",
    "## Prediction on full dataset with GRBs (e.g rate[0])\n",
    "# Need to transform before inputting the whole set into the model\n",
    "X = dataset_full_GRBs.X_cpu\n",
    "dataset_tensor = dataset_full_GRBs.transform(X).to(device=cfg.common.device)\n",
    "\n",
    "# Apply the model trained without GRBs on whole dataset including GRBs.\n",
    "pred = trainer.model(dataset_tensor).detach().to(\"cpu\")\n",
    "\n",
    "# Remove unused tensors that are on GPU\n",
    "dataset_tensor = dataset_tensor.to(device=\"cpu\")\n",
    "del dataset_tensor\n",
    "torch.cuda.empty_cache()\n",
    "gc.collect()\n",
    "\n",
    "# Create a PyTorch Subset with all data\n",
    "data_df = dataset_full_GRBs.data_df\n",
    "subset_dataset_full_GRBs = Subset(dataset_full_GRBs,\n",
    "                                  indices=range(dataset_full_GRBs.n_examples))\n",
    "# Note: We do it because our functions require PyTorch Subsets as input"
   ]
  },
  {
   "cell_type": "code",
   "execution_count": 9,
   "metadata": {},
   "outputs": [],
   "source": [
    "with plt.ioff():\n",
    "    rate_err_names = []\n",
    "    gcfs = []\n",
    "    target_id_dict = {target_name: i for i, target_name in enumerate(cfg.dataset.target_names)}\n",
    "    for target_name, i in target_id_dict.items():\n",
    "        # Even though we call the function that has as name \"plot_val_residual\"\n",
    "        # we apply it to the whole dataset including GRBs\n",
    "        if target_name not in [f\"rate[{i}]\" for i in range(13)]:\n",
    "            fig, fig2 = plot_val_residual(subset_dataset_full_GRBs,\n",
    "                            pred,\n",
    "                            target_name=target_name,\n",
    "                            save_path=None,\n",
    "                            save_path_hist=None)\n",
    "        else:\n",
    "            # rate[i] != rate[j]\n",
    "            j = re.findall(\"[0-9]+\", target_name)[0]\n",
    "            rate_err_names.append(f\"rate_err[{j}]\")\n",
    "            fig, fig2 = plot_val_pull(subset_dataset_full_GRBs,\n",
    "                        pred,\n",
    "                        target_name=target_name,\n",
    "                        rate_err_name=rate_err_names[-1],\n",
    "                        save_path=None,\n",
    "                        save_path_hist=None)\n",
    "        gcfs += [fig, fig2]\n",
    "\n",
    "plt.close(\"all\")"
   ]
  },
  {
   "cell_type": "markdown",
   "metadata": {},
   "source": [
    "Interactive plot using ipywidgets. See these links:\n",
    "-  https://stackoverflow.com/questions/72271574/interactive-plot-of-dataframe-by-index-with-ipywidgets\n",
    "- https://ipywidgets.readthedocs.io/en/stable/examples/Using%20Interact.html"
   ]
  },
  {
   "cell_type": "code",
   "execution_count": 24,
   "metadata": {},
   "outputs": [
    {
     "data": {
      "application/vnd.jupyter.widget-view+json": {
       "model_id": "0bd6de3b193645bbb7e2becde78bf520",
       "version_major": 2,
       "version_minor": 0
      },
      "text/plain": [
       "interactive(children=(Dropdown(description='target_name', options=('rate[0]', 'rate[1]', 'rate[5]', 'rate[6]',…"
      ]
     },
     "metadata": {},
     "output_type": "display_data"
    }
   ],
   "source": [
    "@interact(target_name=list(cfg.dataset.target_names))\n",
    "def residual_plot(target_name: str) -> matplotlib.figure.Figure:\n",
    "    return gcfs[2*target_id_dict[target_name]]"
   ]
  },
  {
   "cell_type": "code",
   "execution_count": 25,
   "metadata": {},
   "outputs": [
    {
     "data": {
      "application/vnd.jupyter.widget-view+json": {
       "model_id": "84330de8a11c40bbb223e9564fe6b04d",
       "version_major": 2,
       "version_minor": 0
      },
      "text/plain": [
       "interactive(children=(Dropdown(description='target_name', options=('rate[0]', 'rate[1]', 'rate[5]', 'rate[6]',…"
      ]
     },
     "metadata": {},
     "output_type": "display_data"
    }
   ],
   "source": [
    "@interact(target_name=list(cfg.dataset.target_names))\n",
    "def residual_hist(target_name: str) -> matplotlib.figure.Figure:\n",
    "    return gcfs[2*target_id_dict[target_name]+1]"
   ]
  },
  {
   "cell_type": "markdown",
   "metadata": {},
   "source": [
    "### Data points of interest (in red)"
   ]
  },
  {
   "cell_type": "code",
   "execution_count": 12,
   "metadata": {},
   "outputs": [
    {
     "name": "stdout",
     "output_type": "stream",
     "text": [
      "Thresholding using residuals/rate_errs (pull), N° points of interest:\n",
      " [30162 27274 55660 55011 48230 48520]\n"
     ]
    }
   ],
   "source": [
    "from src.visualizer import get_all_time_y_y_hat, find_moments, get_columns\n",
    "\n",
    "tmp = get_all_time_y_y_hat(subset_dataset_full_GRBs, pred)\n",
    "sorted_time, sorted_y, sorted_y_hat = tmp\n",
    "del tmp\n",
    "\n",
    "residuals = sorted_y-sorted_y_hat\n",
    "var = residuals\n",
    "var_name = \"residual\"\n",
    "\n",
    "tmp = np.isin(cfg.dataset.target_names, [f\"rate[{i}]\" for i in range(13)])\n",
    "\n",
    "if ~np.any(tmp):\n",
    "    print(f\"Thresholding using residuals\", end=\"\")\n",
    "    new_mean, new_std = list(zip(*[find_moments(residuals[:, j])\\\n",
    "                                   for j in range(residuals.shape[1])]))\n",
    "    new_mean, new_std = np.array(new_mean), np.array(new_std)\n",
    "elif np.all(tmp):\n",
    "    print(\"Thresholding using residuals/rate_errs (pull)\", end=\"\")\n",
    "    rate_errs = get_columns(subset_dataset_full_GRBs, rate_err_names)\n",
    "    pulls = residuals/rate_errs\n",
    "    new_mean, new_std = list(zip(*[find_moments(pulls[:, j])\\\n",
    "                                   for j in range(pulls.shape[1])]))\n",
    "    new_mean, new_std = np.array(new_mean), np.array(new_std)\n",
    "    var = pulls\n",
    "    var_name = \"pull\"\n",
    "else:\n",
    "    raise NotImplementedError(\"Did not implement the case in which the targets are a mix of rate[i] and other\")\n",
    "del tmp\n",
    "\n",
    "k = 3\n",
    "print(\", N° points of interest:\\n\", np.sum(var > k*new_std, axis=0))"
   ]
  },
  {
   "cell_type": "code",
   "execution_count": 13,
   "metadata": {},
   "outputs": [
    {
     "data": {
      "text/plain": [
       "array([1.3375583, 1.196147 , 1.3169341, 1.2481014, 1.5024753, 1.4970227],\n",
       "      dtype=float32)"
      ]
     },
     "execution_count": 13,
     "metadata": {},
     "output_type": "execute_result"
    }
   ],
   "source": [
    "new_std"
   ]
  },
  {
   "cell_type": "code",
   "execution_count": 36,
   "metadata": {},
   "outputs": [
    {
     "data": {
      "application/vnd.jupyter.widget-view+json": {
       "model_id": "72fc8152ceed4ea2997e25f916622699",
       "version_major": 2,
       "version_minor": 0
      },
      "text/plain": [
       "interactive(children=(Dropdown(description='target_name', options=('rate[0]', 'rate[1]', 'rate[5]', 'rate[6]',…"
      ]
     },
     "metadata": {},
     "output_type": "display_data"
    }
   ],
   "source": [
    "warnings.filterwarnings(\"ignore\")\n",
    "@interact(target_name=list(cfg.dataset.target_names),\n",
    "          k=FloatSlider(value=k, min=1, max=7, step=0.5, continuous_update=False))\n",
    "def points_of_interest(target_name: str, k: float) -> None:\n",
    "    id = target_id_dict[target_name]\n",
    "    fig = plt.figure()\n",
    "    # Whole dataset in blue\n",
    "    plt.plot(data_df[\"unix_time\"], data_df[target_name],\n",
    "         linewidth=0.05, label=\"whole data\")\n",
    "    # Points of interest in red\n",
    "    plt.scatter(data_df.loc[var[:, id] > k*new_std[id], \"unix_time\"],\n",
    "            data_df.loc[var[:, id] > k*new_std[id], target_name],\n",
    "            color='r', s=0.1,\n",
    "            label=fr\"data s.t {var_name} > ${k:.1f}\\sigma$\")\n",
    "    plt.title(f\"{(var[:, id] > k*new_std[id]).sum()}\"+\\\n",
    "                f\" data points such that {var_name} \"+\\\n",
    "                fr\"> ${k:.1f}\\sigma$, $\\sigma\\approx{new_std[id]:.4f}$\")\n",
    "    plt.legend()\n",
    "    plt.show()\n",
    "warnings.filterwarnings(\"default\")"
   ]
  },
  {
   "cell_type": "markdown",
   "metadata": {},
   "source": [
    "#### Comparison with known GRBs"
   ]
  },
  {
   "cell_type": "code",
   "execution_count": 15,
   "metadata": {},
   "outputs": [],
   "source": [
    "GRBs = pd.read_csv(\"../data/GRBs.csv\")"
   ]
  },
  {
   "cell_type": "markdown",
   "metadata": {},
   "source": [
    "Let's only focus on GRBs happening in the same time range as our data"
   ]
  },
  {
   "cell_type": "code",
   "execution_count": 16,
   "metadata": {},
   "outputs": [
    {
     "name": "stdout",
     "output_type": "stream",
     "text": [
      "Out of 55, there are: 25 GRBs within our time range\n"
     ]
    }
   ],
   "source": [
    "mask = data_df[\"unix_time\"].min() <= GRBs[\"unix_time\"].values\n",
    "mask &= GRBs[\"unix_time\"].values <= data_df[\"unix_time\"].max()\n",
    "print(f\"Out of 55, there are: {mask.sum()} GRBs within our time range\")"
   ]
  },
  {
   "cell_type": "markdown",
   "metadata": {},
   "source": [
    "Zooming into the GRBs with a window of `w` seconds before and `w` seconds after (`w=100` by default)"
   ]
  },
  {
   "cell_type": "code",
   "execution_count": 37,
   "metadata": {},
   "outputs": [
    {
     "data": {
      "application/vnd.jupyter.widget-view+json": {
       "model_id": "ddc95a085aaf4647ae33f10fb967a574",
       "version_major": 2,
       "version_minor": 0
      },
      "text/plain": [
       "interactive(children=(Dropdown(description='target_name', options=('rate[0]', 'rate[1]', 'rate[5]', 'rate[6]',…"
      ]
     },
     "metadata": {},
     "output_type": "display_data"
    }
   ],
   "source": [
    "warnings.filterwarnings(\"ignore\")\n",
    "@interact(target_name=list(cfg.dataset.target_names),\n",
    "          k=FloatSlider(value=k, min=1, max=7, step=0.5, continuous_update=False),\n",
    "          w=IntSlider(value=100, min=2, max=1000, step=1, continuous_update=False))\n",
    "def show_grbs(target_name: str, k: float, w: int) -> None:\n",
    "     # Show 25 GRBs as well as our predictions and the points of interest\n",
    "     id = target_id_dict[target_name]\n",
    "\n",
    "     fig, axs = plt.subplots(5, 5, figsize=(10, 12), sharey=True)\n",
    "     for i, GRB_name, GRB_tunix in zip(range(mask.sum()),\n",
    "                         GRBs[\"GRB_Name\"][mask],\n",
    "                         GRBs[\"unix_time\"][mask]):\n",
    "          # Mask for GRB interval\n",
    "          m = data_df[\"unix_time\"] >= GRB_tunix-w\n",
    "          m &= data_df[\"unix_time\"] <= GRB_tunix+w\n",
    "          m = m.values\n",
    "\n",
    "          # Mask for GRB interval & red points\n",
    "          mvar = data_df[\"unix_time\"] >= GRB_tunix-w\n",
    "          mvar &= data_df[\"unix_time\"] <= GRB_tunix+w\n",
    "          mvar &= (var[:, id] > k*new_std[id])\n",
    "          if m.sum() > 0:\n",
    "               # Original\n",
    "               axs[i//5, i%5].plot(data_df[m][\"unix_time\"],\n",
    "                         data_df[m][target_name], 'blue', linewidth=0.4)\n",
    "               # Prediction\n",
    "               axs[i//5, i%5].plot(data_df[m][\"unix_time\"],\n",
    "                                   pred[:, id][m], 'black', linewidth=0.4)\n",
    "               # GRB trigger time\n",
    "               axs[i//5, i%5].vlines(GRB_tunix, 0,\n",
    "                                   data_df[m][target_name].max(),\n",
    "                                   'g', linestyle=\"--\")\n",
    "               axs[i//5, i%5].set_title(GRB_name)\n",
    "          if mvar.sum() > 0:\n",
    "               # Points of interest in red\n",
    "               axs[i//5, i%5].scatter(data_df.loc[mvar, \"unix_time\"],\n",
    "                    data_df.loc[mvar, target_name],\n",
    "                    color='r', alpha=0.25)\n",
    "     plt.gcf().legend([\"original\", \"predicted\", \"GRB trigger time\",\n",
    "                       fr\"data s.t {var_name} > ${k:.1f}\\sigma$\"],\n",
    "                       bbox_to_anchor=(0.98, 0),\n",
    "                       # bbox_to_anchor=(0.98, 1.1),\n",
    "                       # bbox_to_anchor=(1.2, 0.55),\n",
    "                       loc=\"upper right\")\n",
    "     plt.tight_layout()\n",
    "     plt.show()\n",
    "warnings.filterwarnings(\"default\")"
   ]
  },
  {
   "cell_type": "markdown",
   "metadata": {},
   "source": [
    "Looking at the residuals or pulls"
   ]
  },
  {
   "cell_type": "code",
   "execution_count": 38,
   "metadata": {},
   "outputs": [
    {
     "data": {
      "application/vnd.jupyter.widget-view+json": {
       "model_id": "5198ebd2bb244eb79fd408ded5c1a2e1",
       "version_major": 2,
       "version_minor": 0
      },
      "text/plain": [
       "interactive(children=(Dropdown(description='target_name', options=('rate[0]', 'rate[1]', 'rate[5]', 'rate[6]',…"
      ]
     },
     "metadata": {},
     "output_type": "display_data"
    }
   ],
   "source": [
    "warnings.filterwarnings(\"ignore\")\n",
    "@interact(target_name=list(cfg.dataset.target_names),\n",
    "          k=FloatSlider(value=k, min=1, max=7, step=0.5, continuous_update=False),\n",
    "          w=IntSlider(value=100, min=2, max=1000, step=1, continuous_update=False))\n",
    "def show_var(target_name: str, k: float, w: int) -> None:\n",
    "     id = target_id_dict[target_name]\n",
    "\n",
    "     fig, axs = plt.subplots(5, 5, figsize=(10, 12), sharey=True)\n",
    "     for i, GRB_name, GRB_tunix in zip(range(mask.sum()),\n",
    "                         GRBs[\"GRB_Name\"][mask],\n",
    "                         GRBs[\"unix_time\"][mask]):\n",
    "          # Mask for GRB interval\n",
    "          m = data_df[\"unix_time\"] >= GRB_tunix-w\n",
    "          m &= data_df[\"unix_time\"] <= GRB_tunix+w\n",
    "          m = m.values\n",
    "\n",
    "          # Mask for GRB interval & red points\n",
    "          mvar = data_df[\"unix_time\"] >= GRB_tunix-w\n",
    "          mvar &= data_df[\"unix_time\"] <= GRB_tunix+w\n",
    "          mvar &= (var[:, id] > k*new_std[id])\n",
    "          if m.sum() > 0:\n",
    "               # Residuals or pulls\n",
    "               axs[i//5, i%5].plot(data_df[m][\"unix_time\"],\n",
    "                                   var[:, id][m], 'k', linewidth=0.4)\n",
    "               # GRB trigger time\n",
    "               axs[i//5, i%5].vlines(GRB_tunix, var[:, id][m].min(),\n",
    "                                   var[:, id][m].max(),\n",
    "                                   'g', linestyle=\"--\")\n",
    "               axs[i//5, i%5].set_title(GRB_name)\n",
    "          if mvar.sum() > 0:\n",
    "               # Points of interest in red\n",
    "               axs[i//5, i%5].scatter(data_df.loc[mvar, \"unix_time\"],\n",
    "                    var[:, id][mvar],\n",
    "                    color='r', alpha=0.25)\n",
    "     plt.gcf().legend([f\"{var_name}\", \"GRB trigger time\",\n",
    "                    fr\"data s.t {var_name} > ${k:.1f}\\sigma$\"],\n",
    "                    bbox_to_anchor=(0.98, 0),\n",
    "                    loc=\"upper right\")\n",
    "     plt.tight_layout()\n",
    "     plt.show()\n",
    "warnings.filterwarnings(\"default\")"
   ]
  },
  {
   "cell_type": "markdown",
   "metadata": {},
   "source": [
    "### Clusters"
   ]
  },
  {
   "cell_type": "code",
   "execution_count": 41,
   "metadata": {},
   "outputs": [
    {
     "data": {
      "application/vnd.jupyter.widget-view+json": {
       "model_id": "de32f5ff06d74883815fa967844d1fec",
       "version_major": 2,
       "version_minor": 0
      },
      "text/plain": [
       "interactive(children=(Dropdown(description='target_name', options=('rate[0]', 'rate[1]', 'rate[5]', 'rate[6]',…"
      ]
     },
     "metadata": {},
     "output_type": "display_data"
    }
   ],
   "source": [
    "warnings.filterwarnings(\"ignore\")\n",
    "@interact(target_name=list(cfg.dataset.target_names),\n",
    "          k=FloatSlider(value=k, min=1, max=7, step=0.5, continuous_update=False))\n",
    "def plot_clusters(target_name: str, k: float) -> None:\n",
    "    id = target_id_dict[target_name]\n",
    "\n",
    "    ## Red points of interest\n",
    "    points = data_df.loc[(var[:, id] > k*new_std[id]), \"unix_time\"]\n",
    "    points = points.reset_index(drop=True)\n",
    "\n",
    "    ## Time difference between the points of interest\n",
    "    delta = (points.values[1:]-points.values[:-1]).astype(int)\n",
    "    delta = np.concatenate([np.array([np.inf]), delta])\n",
    "    # At each position, we have the time difference with the prev.\n",
    "    # red point. For the first one, it's inf.\n",
    "    \n",
    "    ## Starting points of clusters\n",
    "    starts = points.loc[delta > 1]\n",
    "\n",
    "    ## Ending points of clusters\n",
    "    # idx_ends != starts.index.values[1:] as it would take way\n",
    "    # too big ranges due to delta > 1\n",
    "    idx_ends = starts.index.values[1:] - 1\n",
    "    idx_ends = np.concatenate([idx_ends, [points.size-1]])  # include last data point\n",
    "    ends = points.iloc[idx_ends]\n",
    "\n",
    "    # Adding a label to each group/cluster\n",
    "    idx_starts = starts.index.values\n",
    "    groups = np.repeat(np.arange(len(idx_starts))+1, idx_ends - idx_starts + 1)\n",
    "    \n",
    "    warnings.filterwarnings(\"ignore\")\n",
    "    data = data_df.loc[(var[:, id] > k*new_std[id])]\n",
    "    data[\"group\"] = groups\n",
    "    \n",
    "    # Two properties of clusters\n",
    "    integral = data.groupby(\"group\")[target_name].sum().values\n",
    "    lengths = ends.values-starts.values\n",
    "\n",
    "    fig = plt.figure()\n",
    "    plt.plot(lengths, integral, '.')\n",
    "    plt.xlabel(\"Length [s]\")\n",
    "    plt.ylabel(\"Integral [Hz]\")\n",
    "    plt.grid(\"on\")\n",
    "    plt.title(fr\"Clusters obtained from data having {var_name}> ${k:.1f}\\sigma$\"+\\\n",
    "              fr\", $\\sigma\\approx{new_std[id]:.4f}$\")\n",
    "    plt.show()\n",
    "warnings.filterwarnings(\"default\")"
   ]
  },
  {
   "cell_type": "code",
   "execution_count": null,
   "metadata": {},
   "outputs": [],
   "source": []
  }
 ],
 "metadata": {
  "kernelspec": {
   "display_name": "polar",
   "language": "python",
   "name": "polar"
  },
  "language_info": {
   "codemirror_mode": {
    "name": "ipython",
    "version": 3
   },
   "file_extension": ".py",
   "mimetype": "text/x-python",
   "name": "python",
   "nbconvert_exporter": "python",
   "pygments_lexer": "ipython3",
   "version": "3.10.6"
  }
 },
 "nbformat": 4,
 "nbformat_minor": 4
}
