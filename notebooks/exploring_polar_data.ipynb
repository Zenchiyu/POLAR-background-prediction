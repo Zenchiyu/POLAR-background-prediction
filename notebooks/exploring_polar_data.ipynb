{
 "cells": [
  {
   "cell_type": "code",
   "execution_count": 1,
   "id": "9fe45224",
   "metadata": {},
   "outputs": [],
   "source": [
    "import numpy as np\n",
    "import uproot as ur\n",
    "import matplotlib.pyplot as plt\n",
    "import numba as nb\n",
    "import pandas as pd\n",
    "import copy\n",
    "import sys\n",
    "\n",
    "from scipy import stats\n",
    "from numba import njit"
   ]
  },
  {
   "cell_type": "code",
   "execution_count": 2,
   "id": "bfa18944",
   "metadata": {},
   "outputs": [],
   "source": [
    "sys.path.append('../')\n",
    "\n",
    "from src import load_data"
   ]
  },
  {
   "cell_type": "markdown",
   "id": "7bad63d3",
   "metadata": {},
   "source": [
    "## Loading the data and obtaining a sort of profile histogram"
   ]
  },
  {
   "cell_type": "markdown",
   "id": "e547995e",
   "metadata": {},
   "source": [
    "- We load the root file using uproot and show its contents. We can then obtain a dictionary where keys are some of the names shown above and values are numpy arrays containing the data. Note that we only keep a subset of the information."
   ]
  },
  {
   "cell_type": "code",
   "execution_count": 3,
   "id": "4cfc61b1",
   "metadata": {},
   "outputs": [
    {
     "name": "stdout",
     "output_type": "stream",
     "text": [
      "TTree: t_hk_obox's contents:\n",
      "name                 | typename                 | interpretation                \n",
      "---------------------+--------------------------+-------------------------------\n",
      "odd_index            | int32_t                  | AsDtype('>i4')\n",
      "even_index           | int32_t                  | AsDtype('>i4')\n",
      "odd_is_bad           | int32_t                  | AsDtype('>i4')\n",
      "even_is_bad          | int32_t                  | AsDtype('>i4')\n",
      "obox_is_bad          | int32_t                  | AsDtype('>i4')\n",
      "packet_num           | uint16_t                 | AsDtype('>u2')\n",
      "timestamp            | uint32_t                 | AsDtype('>u4')\n",
      "obox_mode            | uint8_t                  | AsDtype('uint8')\n",
      "cpu_status           | uint16_t                 | AsDtype('>u2')\n",
      "trig_status          | uint8_t                  | AsDtype('uint8')\n",
      "comm_status          | uint8_t                  | AsDtype('uint8')\n",
      "ct_temp              | float                    | AsDtype('>f4')\n",
      "chain_temp           | float                    | AsDtype('>f4')\n",
      "reserved             | uint16_t                 | AsDtype('>u2')\n",
      "lv_status            | uint16_t                 | AsDtype('>u2')\n",
      "fe_pattern           | uint32_t                 | AsDtype('>u4')\n",
      "lv_temp              | float                    | AsDtype('>f4')\n",
      "hv_pwm               | uint16_t                 | AsDtype('>u2')\n",
      "hv_status            | uint16_t                 | AsDtype('>u2')\n",
      "hv_current           | uint16_t[2]              | AsDtype(\"('>u2', (2,))\")\n",
      "fe_status            | uint8_t[25]              | AsDtype(\"('u1', (25,))\")\n",
      "fe_temp              | float[25]                | AsDtype(\"('>f4', (25,))\")\n",
      "fe_hv                | float[25]                | AsDtype(\"('>f4', (25,))\")\n",
      "fe_thr               | float[25]                | AsDtype(\"('>f4', (25,))\")\n",
      "fe_rate              | uint16_t[25]             | AsDtype(\"('>u2', (25,))\")\n",
      "fe_cosmic            | uint16_t[25]             | AsDtype(\"('>u2', (25,))\")\n",
      "flex_i_p3v3          | float[5]                 | AsDtype(\"('>f4', (5,))\")\n",
      "flex_i_p1v7          | float[5]                 | AsDtype(\"('>f4', (5,))\")\n",
      "flex_i_n2v5          | float[5]                 | AsDtype(\"('>f4', (5,))\")\n",
      "flex_v_p3v3          | float[5]                 | AsDtype(\"('>f4', (5,))\")\n",
      "flex_v_p1v7          | float[5]                 | AsDtype(\"('>f4', (5,))\")\n",
      "flex_v_n2v5          | float[5]                 | AsDtype(\"('>f4', (5,))\")\n",
      "hv_v_hot             | float                    | AsDtype('>f4')\n",
      "hv_i_hot             | float                    | AsDtype('>f4')\n",
      "ct_v_hot             | float[2]                 | AsDtype(\"('>f4', (2,))\")\n",
      "ct_i_hot             | float[2]                 | AsDtype(\"('>f4', (2,))\")\n",
      "hv_v_cold            | float                    | AsDtype('>f4')\n",
      "hv_i_cold            | float                    | AsDtype('>f4')\n",
      "ct_v_cold            | float[2]                 | AsDtype(\"('>f4', (2,))\")\n",
      "ct_i_cold            | float[2]                 | AsDtype(\"('>f4', (2,))\")\n",
      "timestamp_sync       | uint32_t                 | AsDtype('>u4')\n",
      "command_rec          | uint16_t                 | AsDtype('>u2')\n",
      "command_exec         | uint16_t                 | AsDtype('>u2')\n",
      "command_last_num     | uint16_t                 | AsDtype('>u2')\n",
      "command_last_stamp   | uint16_t                 | AsDtype('>u2')\n",
      "command_last_exec    | uint16_t                 | AsDtype('>u2')\n",
      "command_last_arg     | uint16_t[2]              | AsDtype(\"('>u2', (2,))\")\n",
      "obox_hk_crc          | uint16_t                 | AsDtype('>u2')\n",
      "saa                  | uint16_t                 | AsDtype('>u2')\n",
      "sci_head             | uint16_t                 | AsDtype('>u2')\n",
      "gps_pps_count        | uint64_t                 | AsDtype('>u8')\n",
      "gps_sync_gen_count   | uint64_t                 | AsDtype('>u8')\n",
      "gps_sync_send_count  | uint64_t                 | AsDtype('>u8')\n",
      "ibox_gps             | uint64_t                 | AsDtype('>u8')\n",
      "abs_gps_week         | int32_t                  | AsDtype('>i4')\n",
      "abs_gps_second       | double                   | AsDtype('>f8')\n",
      "ship_time            | uint64_t                 | AsDtype('>u8')\n",
      "abs_ship_second      | double                   | AsDtype('>f8')\n",
      "tunix                | double                   | AsDtype('>f8')\n",
      "age                  | double                   | AsDtype('>f8')\n",
      "glat                 | double                   | AsDtype('>f8')\n",
      "glon                 | double                   | AsDtype('>f8')\n",
      "x                    | double                   | AsDtype('>f8')\n",
      "y                    | double                   | AsDtype('>f8')\n",
      "z                    | double                   | AsDtype('>f8')\n",
      "vx                   | double                   | AsDtype('>f8')\n",
      "vy                   | double                   | AsDtype('>f8')\n",
      "vz                   | double                   | AsDtype('>f8')\n",
      "raz                  | double                   | AsDtype('>f8')\n",
      "decz                 | double                   | AsDtype('>f8')\n",
      "rax                  | double                   | AsDtype('>f8')\n",
      "decx                 | double                   | AsDtype('>f8')\n",
      "tle                  | int32_t                  | AsDtype('>i4')\n",
      "\n",
      "TTree: B_field's contents:\n",
      "name                 | typename                 | interpretation                \n",
      "---------------------+--------------------------+-------------------------------\n",
      "B_r                  | double                   | AsDtype('>f8')\n",
      "B_theta              | double                   | AsDtype('>f8')\n",
      "B_phi                | double                   | AsDtype('>f8')\n",
      "\n"
     ]
    }
   ],
   "source": [
    "data_dict = load_data.load_data_as_dict(TTree_features_dict={\n",
    "                        \"t_hk_obox\":\n",
    "                                [\"saa\", \n",
    "                               \"raz\",\n",
    "                               \"decz\",\n",
    "                               \"rax\",\n",
    "                               \"decx\",\n",
    "                               \"obox_mode\",\n",
    "                               \"fe_temp\",\n",
    "                               \"glon\", \n",
    "                               \"glat\",\n",
    "                               \"tunix\",\n",
    "                               \"fe_cosmic\",\n",
    "                               \"fe_rate\"],\n",
    "                        \"B_field\":\n",
    "                                [\"B_r\",\n",
    "                                 \"B_theta\",\n",
    "                                 \"B_phi\"]\n",
    "                        })"
   ]
  },
  {
   "cell_type": "markdown",
   "id": "a25d4625",
   "metadata": {},
   "source": [
    "The TTree `B_field` contains information on the magnetic field and is aligned with the data in `t_hk_obox`"
   ]
  },
  {
   "cell_type": "code",
   "execution_count": 4,
   "id": "1388ee75",
   "metadata": {},
   "outputs": [
    {
     "data": {
      "text/plain": [
       "{'saa': array([2, 2, 2, ..., 2, 2, 2], dtype=uint16),\n",
       " 'raz': array([120.61032988, 120.61032988, 120.61032988, ..., 268.31234659,\n",
       "        268.46116213, 268.61028861]),\n",
       " 'decz': array([-29.61894939, -29.61894939, -29.61894939, ..., -31.63597884,\n",
       "        -31.64401894, -31.6515442 ]),\n",
       " 'rax': array([ 92.82497914,  92.82497914,  92.82497914, ..., 275.36921754,\n",
       "        275.31124104, 275.25286591]),\n",
       " 'decx': array([57.27482107, 57.27482107, 57.27482107, ..., 58.16912315,\n",
       "        58.17235735, 58.17580668]),\n",
       " 'obox_mode': array([1, 1, 1, ..., 4, 4, 4], dtype=uint8),\n",
       " 'fe_temp': array([[0., 0., 0., ..., 0., 0., 0.],\n",
       "        [0., 0., 0., ..., 0., 0., 0.],\n",
       "        [0., 0., 0., ..., 0., 0., 0.],\n",
       "        ...,\n",
       "        [0., 0., 0., ..., 0., 0., 0.],\n",
       "        [0., 0., 0., ..., 0., 0., 0.],\n",
       "        [0., 0., 0., ..., 0., 0., 0.]], dtype=float32),\n",
       " 'glon': array([-176.248994  , -176.14829434, -176.04746684, ...,  171.5605    ,\n",
       "         171.72805   ,  171.8957    ]),\n",
       " 'glat': array([-18.1458175 , -18.23102986, -18.31619828, ..., -42.60489   ,\n",
       "        -42.61419   , -42.62325   ]),\n",
       " 'tunix': array([1.47395004e+09, 1.47395004e+09, 1.47395004e+09, ...,\n",
       "        1.50278678e+09, 1.50278678e+09, 1.50278679e+09]),\n",
       " 'fe_cosmic': array([[0, 0, 0, ..., 0, 0, 0],\n",
       "        [0, 0, 0, ..., 0, 0, 0],\n",
       "        [0, 0, 0, ..., 0, 0, 0],\n",
       "        ...,\n",
       "        [0, 0, 0, ..., 0, 0, 0],\n",
       "        [0, 0, 0, ..., 0, 0, 0],\n",
       "        [0, 0, 0, ..., 0, 0, 0]], dtype=uint16),\n",
       " 'fe_rate': array([[0, 0, 0, ..., 0, 0, 0],\n",
       "        [0, 0, 0, ..., 0, 0, 0],\n",
       "        [0, 0, 0, ..., 0, 0, 0],\n",
       "        ...,\n",
       "        [0, 0, 0, ..., 0, 0, 0],\n",
       "        [0, 0, 0, ..., 0, 0, 0],\n",
       "        [0, 0, 0, ..., 0, 0, 0]], dtype=uint16),\n",
       " 'B_r': array([22978.48802434, 23045.55346342, 23112.39422331, ...,\n",
       "        44046.39396326, 44014.51554222, 43982.26840671]),\n",
       " 'B_theta': array([-27875.42593699, -27845.82190308, -27816.13012192, ...,\n",
       "        -16063.233767  , -16067.59816258, -16072.03438021]),\n",
       " 'B_phi': array([6282.74002185, 6289.57796674, 6296.41884916, ..., 6714.46656729,\n",
       "        6728.38562864, 6742.18926921])}"
      ]
     },
     "execution_count": 4,
     "metadata": {},
     "output_type": "execute_result"
    }
   ],
   "source": [
    "data_dict"
   ]
  },
  {
   "cell_type": "markdown",
   "id": "7bc3dbf0",
   "metadata": {},
   "source": [
    "- We are interested in the following curve which contains a background part and the gamma ray bursts we would like to detect:"
   ]
  },
  {
   "cell_type": "code",
   "execution_count": 5,
   "id": "45deacd8",
   "metadata": {},
   "outputs": [],
   "source": [
    "tunix = data_dict[\"tunix\"]\n",
    "sum_fe_rate = np.sum(data_dict[\"fe_rate\"], axis=1)"
   ]
  },
  {
   "cell_type": "code",
   "execution_count": 6,
   "id": "00985ebe",
   "metadata": {},
   "outputs": [
    {
     "data": {
      "image/png": "[encoded data removed]",
      "text/plain": [
       "<Figure size 640x480 with 1 Axes>"
      ]
     },
     "metadata": {},
     "output_type": "display_data"
    }
   ],
   "source": [
    "plt.plot(tunix, sum_fe_rate, 'g', linewidth=0.1)\n",
    "plt.xlabel(\"Tunix [s]\")\n",
    "plt.ylabel(\"Rate [Hz]\")  # Nb. photons per second\n",
    "plt.show()"
   ]
  },
  {
   "cell_type": "markdown",
   "id": "99d5c5b2",
   "metadata": {},
   "source": [
    "Therefore, we would like to predict the background part, subtract it from the curve and analyze or use the remaining part to detect gamma ray bursts (GRB)."
   ]
  },
  {
   "cell_type": "markdown",
   "id": "5b6b2914",
   "metadata": {},
   "source": [
    "As we can see from the previous plot, we see a large flat region on the right with no data. We can therefore crop the right part:"
   ]
  },
  {
   "cell_type": "code",
   "execution_count": 7,
   "id": "0c109ec5",
   "metadata": {},
   "outputs": [],
   "source": [
    "last_non_zero = sum_fe_rate.size-(np.flip(sum_fe_rate)>0).argmax() - 1\n",
    "tunix = tunix[:last_non_zero+1]\n",
    "sum_fe_rate = sum_fe_rate[:last_non_zero+1]"
   ]
  },
  {
   "cell_type": "code",
   "execution_count": 8,
   "id": "5b4c568c",
   "metadata": {},
   "outputs": [
    {
     "data": {
      "image/png": "[encoded data removed]",
      "text/plain": [
       "<Figure size 640x480 with 1 Axes>"
      ]
     },
     "metadata": {},
     "output_type": "display_data"
    }
   ],
   "source": [
    "plt.plot(tunix, sum_fe_rate, 'g', linewidth=0.1)\n",
    "plt.xlabel(\"Tunix [s]\")\n",
    "plt.ylabel(\"Rate [Hz]\")  # Nb. photons per second\n",
    "plt.show()"
   ]
  },
  {
   "cell_type": "markdown",
   "id": "51dfacbc",
   "metadata": {},
   "source": [
    "We can observe a lot of missing values due to the detector being switched off when astronauts went onboard the space station. Small missing values are due to the South Altantic Anomaly region."
   ]
  },
  {
   "cell_type": "markdown",
   "id": "2d68003e",
   "metadata": {},
   "source": [
    "- We can shift the time axis so that it starts at $0$. We can also bin the data"
   ]
  },
  {
   "cell_type": "code",
   "execution_count": 9,
   "id": "8d936aac",
   "metadata": {},
   "outputs": [],
   "source": [
    "tunix_min = tunix.min()\n",
    "tunix_shifted = tunix - tunix_min\n",
    "bins = np.arange(0, tunix_shifted.max()+2, 2)\n",
    "\n",
    "# Obtain indices of the bins in which the data falls.\n",
    "# It will take the bin on the right, not the one of the left\n",
    "indices_digitized = np.digitize(tunix_shifted, bins)\n",
    "uniques_idx, counts_idx = np.unique(indices_digitized, return_counts=True)"
   ]
  },
  {
   "cell_type": "code",
   "execution_count": 10,
   "id": "add27d91",
   "metadata": {},
   "outputs": [
    {
     "data": {
      "text/html": [
       "<div>\n",
       "<style scoped>\n",
       "    .dataframe tbody tr th:only-of-type {\n",
       "        vertical-align: middle;\n",
       "    }\n",
       "\n",
       "    .dataframe tbody tr th {\n",
       "        vertical-align: top;\n",
       "    }\n",
       "\n",
       "    .dataframe thead th {\n",
       "        text-align: right;\n",
       "    }\n",
       "</style>\n",
       "<table border=\"1\" class=\"dataframe\">\n",
       "  <thead>\n",
       "    <tr style=\"text-align: right;\">\n",
       "      <th></th>\n",
       "      <th>0</th>\n",
       "      <th>1</th>\n",
       "      <th>2</th>\n",
       "      <th>3</th>\n",
       "      <th>4</th>\n",
       "      <th>5</th>\n",
       "      <th>6</th>\n",
       "      <th>7</th>\n",
       "      <th>8</th>\n",
       "      <th>9</th>\n",
       "      <th>...</th>\n",
       "      <th>6187613</th>\n",
       "      <th>6187614</th>\n",
       "      <th>6187615</th>\n",
       "      <th>6187616</th>\n",
       "      <th>6187617</th>\n",
       "      <th>6187618</th>\n",
       "      <th>6187619</th>\n",
       "      <th>6187620</th>\n",
       "      <th>6187621</th>\n",
       "      <th>6187622</th>\n",
       "    </tr>\n",
       "  </thead>\n",
       "  <tbody>\n",
       "    <tr>\n",
       "      <th>0</th>\n",
       "      <td>2.0</td>\n",
       "      <td>4.0</td>\n",
       "      <td>6.0</td>\n",
       "      <td>10.0</td>\n",
       "      <td>12.0</td>\n",
       "      <td>18.0</td>\n",
       "      <td>20.0</td>\n",
       "      <td>26.0</td>\n",
       "      <td>28.0</td>\n",
       "      <td>34.0</td>\n",
       "      <td>...</td>\n",
       "      <td>17323018.0</td>\n",
       "      <td>17323020.0</td>\n",
       "      <td>17323022.0</td>\n",
       "      <td>17323024.0</td>\n",
       "      <td>17323026.0</td>\n",
       "      <td>17323028.0</td>\n",
       "      <td>17323030.0</td>\n",
       "      <td>17323032.0</td>\n",
       "      <td>17323034.0</td>\n",
       "      <td>17323036.0</td>\n",
       "    </tr>\n",
       "  </tbody>\n",
       "</table>\n",
       "<p>1 rows × 6187623 columns</p>\n",
       "</div>"
      ],
      "text/plain": [
       "   0        1        2        3        4        5        6        7        \\\n",
       "0      2.0      4.0      6.0     10.0     12.0     18.0     20.0     26.0   \n",
       "\n",
       "   8        9        ...     6187613     6187614     6187615     6187616  \\\n",
       "0     28.0     34.0  ...  17323018.0  17323020.0  17323022.0  17323024.0   \n",
       "\n",
       "      6187617     6187618     6187619     6187620     6187621     6187622  \n",
       "0  17323026.0  17323028.0  17323030.0  17323032.0  17323034.0  17323036.0  \n",
       "\n",
       "[1 rows x 6187623 columns]"
      ]
     },
     "execution_count": 10,
     "metadata": {},
     "output_type": "execute_result"
    }
   ],
   "source": [
    "pd.DataFrame(bins[uniques_idx].reshape(1, -1))"
   ]
  },
  {
   "cell_type": "markdown",
   "id": "2215919c",
   "metadata": {},
   "source": [
    "We can observe that the bins start at $2$ seconds and this should be taken into account in the future."
   ]
  },
  {
   "cell_type": "code",
   "execution_count": 11,
   "id": "2e406d92",
   "metadata": {},
   "outputs": [
    {
     "data": {
      "image/png": "[encoded data removed]",
      "text/plain": [
       "<Figure size 640x480 with 1 Axes>"
      ]
     },
     "metadata": {},
     "output_type": "display_data"
    }
   ],
   "source": [
    "plt.plot(bins[uniques_idx], counts_idx, 'g', linewidth=0.1)\n",
    "plt.xlabel(\"Bins [s]\")\n",
    "plt.ylabel(\"Count\")  # nb. data falling into bin\n",
    "plt.show()"
   ]
  },
  {
   "cell_type": "markdown",
   "id": "dff4e976",
   "metadata": {},
   "source": [
    "- There are sometimes two data points in a bin, we can average the data falling into each bin (profile hist but without error bars)."
   ]
  },
  {
   "cell_type": "code",
   "execution_count": 12,
   "id": "faa4ed62",
   "metadata": {},
   "outputs": [],
   "source": [
    "# Quantized Shifted Time\n",
    "t = bins[indices_digitized]\n",
    "\n",
    "# First column is the quantized time, second is the 'average' rate within the bin\n",
    "light_curve = np.array(pd.DataFrame(np.vstack([t, sum_fe_rate, indices_digitized]).T, \n",
    "                                    columns=[\"t\", \"sum_fe_rate\", \"idx\"]).groupby(\"idx\").mean())"
   ]
  },
  {
   "cell_type": "code",
   "execution_count": 13,
   "id": "d02a0676",
   "metadata": {},
   "outputs": [],
   "source": [
    "t, y = light_curve.T"
   ]
  },
  {
   "cell_type": "code",
   "execution_count": 14,
   "id": "2e2f8b8a",
   "metadata": {},
   "outputs": [
    {
     "data": {
      "text/plain": [
       "((6187623,), (6187623,))"
      ]
     },
     "execution_count": 14,
     "metadata": {},
     "output_type": "execute_result"
    }
   ],
   "source": [
    "t.shape, y.shape"
   ]
  },
  {
   "cell_type": "code",
   "execution_count": 15,
   "id": "790c5d36",
   "metadata": {},
   "outputs": [
    {
     "data": {
      "image/png": "[encoded data removed]",
      "text/plain": [
       "<Figure size 640x480 with 1 Axes>"
      ]
     },
     "metadata": {},
     "output_type": "display_data"
    }
   ],
   "source": [
    "plt.plot(t, y, 'g', linewidth=0.1)\n",
    "plt.xlabel(\"Quantized Shifted Tunix [s]\")\n",
    "plt.ylabel(\"Avg Rate [Hz]\")  # Nb. photons per second (averaged over each bin)\n",
    "plt.title(\"Light curve for the whole mission\")\n",
    "plt.show()"
   ]
  },
  {
   "cell_type": "markdown",
   "id": "1e8d9f58",
   "metadata": {},
   "source": [
    "- Let's visualize just a small part of it (not the whole mission):"
   ]
  },
  {
   "cell_type": "code",
   "execution_count": 16,
   "id": "cc22410a",
   "metadata": {},
   "outputs": [
    {
     "data": {
      "image/png": "[encoded data removed]",
      "text/plain": [
       "<Figure size 640x480 with 1 Axes>"
      ]
     },
     "metadata": {},
     "output_type": "display_data"
    }
   ],
   "source": [
    "# Mask used to select a portion of the mission\n",
    "mask = (t>(5000+1482032854-tunix_min)) & (t<(20000+1482032854-tunix_min))\n",
    "\n",
    "plt.plot(t[mask], y[mask], '-g', linewidth=0.1)\n",
    "plt.xlabel(\"Quantized Shifted Tunix [s]\")\n",
    "plt.ylabel(\"Avg Rate [Hz]\")  # nb. photons per seconds (averaged over each bin)\n",
    "plt.show()"
   ]
  },
  {
   "cell_type": "markdown",
   "id": "b57ac1ed",
   "metadata": {},
   "source": [
    "---"
   ]
  },
  {
   "cell_type": "markdown",
   "id": "5237d4b6",
   "metadata": {},
   "source": [
    "## Fourier Transform"
   ]
  },
  {
   "cell_type": "code",
   "execution_count": 17,
   "id": "8d978102",
   "metadata": {},
   "outputs": [],
   "source": [
    "from src.frequencies import f_after_first, f, compute_freqs, get_freqs_hour\n",
    "from src.plotting import plot_magnitude_w_first_freq,\\\n",
    "    plot_magnitude_wo_first_freq,\\\n",
    "    plot_phase_w_first_freq,\\\n",
    "    plot_phase_wo_first_freq,\\\n",
    "    plot_quantity_wrt_freqs,\\\n",
    "    plot_quantity_wo_first_freq,\\\n",
    "    plot_quantity_w_first_freq"
   ]
  },
  {
   "cell_type": "markdown",
   "id": "b50b8f6d",
   "metadata": {},
   "source": [
    "- Direct transform"
   ]
  },
  {
   "cell_type": "code",
   "execution_count": null,
   "id": "c9fc905b",
   "metadata": {},
   "outputs": [],
   "source": [
    "fft_res = np.fft.rfft(y)"
   ]
  },
  {
   "cell_type": "markdown",
   "id": "65075bdc",
   "metadata": {},
   "source": [
    "Just checking the Fourier synthesis, that we come back to the original light curve"
   ]
  },
  {
   "cell_type": "code",
   "execution_count": null,
   "id": "23b06152",
   "metadata": {},
   "outputs": [],
   "source": [
    "y_hat = np.fft.irfft(fft_res, n=y.size)"
   ]
  },
  {
   "cell_type": "code",
   "execution_count": null,
   "id": "2b2d8842",
   "metadata": {},
   "outputs": [],
   "source": [
    "# Mask used to select a portion of the mission\n",
    "mask = (t>(5000+1482032854-tunix_min)) & (t<(20000+1482032854-tunix_min))\n",
    "\n",
    "plt.plot(t[mask], y[mask], '-g')\n",
    "plt.plot(t[mask], y_hat[mask], '--r')\n",
    "plt.xlabel(\"Quantized Shifted Tunix [s]\")\n",
    "plt.ylabel(\"Avg Rate [Hz]\")  # nb. photons per seconds (averaged over each bin)\n",
    "plt.show()"
   ]
  },
  {
   "cell_type": "markdown",
   "id": "a2cde20e",
   "metadata": {},
   "source": [
    "- Frequency axis"
   ]
  },
  {
   "cell_type": "code",
   "execution_count": null,
   "id": "f3cc67ad",
   "metadata": {},
   "outputs": [],
   "source": [
    "freqs = compute_freqs(y.size, timestep=2)  # timestep of 2 seconds"
   ]
  },
  {
   "cell_type": "code",
   "execution_count": null,
   "id": "37dac808",
   "metadata": {},
   "outputs": [],
   "source": [
    "freqs_hour = get_freqs_hour(freqs)"
   ]
  },
  {
   "cell_type": "markdown",
   "id": "622d9e4d",
   "metadata": {},
   "source": [
    "- Plotting the magnitude and the phase (without the first one)"
   ]
  },
  {
   "cell_type": "code",
   "execution_count": null,
   "id": "34f2a109",
   "metadata": {},
   "outputs": [],
   "source": [
    "mag = np.abs(fft_res)\n",
    "phase = np.angle(fft_res)"
   ]
  },
  {
   "cell_type": "code",
   "execution_count": null,
   "id": "768cad95",
   "metadata": {},
   "outputs": [],
   "source": [
    "plot_magnitude_w_first_freq(mag, y.size, n=20000)\n",
    "plot_magnitude_wo_first_freq(mag, y.size, n=20000)"
   ]
  },
  {
   "cell_type": "markdown",
   "id": "b54f38d0",
   "metadata": {},
   "source": [
    "Phase (TODO, make it more interpretable):"
   ]
  },
  {
   "cell_type": "code",
   "execution_count": null,
   "id": "f45ed89e",
   "metadata": {},
   "outputs": [],
   "source": [
    "plot_phase_w_first_freq(phase, y.size, n=20000)\n",
    "plot_phase_wo_first_freq(phase, y.size, n=20000)"
   ]
  },
  {
   "cell_type": "markdown",
   "id": "b037aeb1",
   "metadata": {},
   "source": [
    "Not very interpretable"
   ]
  },
  {
   "cell_type": "markdown",
   "id": "18ca5b1f",
   "metadata": {},
   "source": [
    "And for even smaller subsets"
   ]
  },
  {
   "cell_type": "code",
   "execution_count": null,
   "id": "2a79b5c1",
   "metadata": {},
   "outputs": [],
   "source": [
    "n = 500  # number of frequencies to show\n",
    "\n",
    "fig2, axs2 = plt.subplots(1, 2, figsize=(12, 5), sharey=True)\n",
    "plot_quantity_wrt_freqs(axs2[0], phase, \"Phase\", y.size, low_n=1, high_n=n)\n",
    "\n",
    "\n",
    "n = 200  # number of frequencies to show\n",
    "plot_quantity_wrt_freqs(axs2[1], phase, \"Phase\", y.size, low_n=1, high_n=n)\n",
    "plt.tight_layout()\n",
    "plt.show()"
   ]
  },
  {
   "cell_type": "markdown",
   "id": "5cad711d",
   "metadata": {},
   "source": [
    "Placing a line at the mean:"
   ]
  },
  {
   "cell_type": "code",
   "execution_count": null,
   "id": "bc206178",
   "metadata": {},
   "outputs": [],
   "source": [
    "n = 20000  # number of frequencies to show\n",
    "\n",
    "plt.plot(f_after_first(y.size, n), mag[1:n])\n",
    "plt.plot(f_after_first(y.size, n),\n",
    "         np.mean(mag[:n])*np.ones(n-1), 'r')\n",
    "plt.xlabel(\"Frequency [$hour^{-1}$]\")\n",
    "plt.title(f\"Magnitude for {n-1} first freqs. after first one\")\n",
    "plt.tight_layout()\n",
    "plt.show()"
   ]
  },
  {
   "cell_type": "code",
   "execution_count": null,
   "id": "18ecb1b7",
   "metadata": {},
   "outputs": [],
   "source": [
    "n = 20000  # number of frequencies to show\n",
    "\n",
    "plt.loglog(f_after_first(y.size, n), mag[1:n])\n",
    "plt.xlabel(\"Frequency [$hour^{-1}$]\")\n",
    "plt.title(f\"Log log plot: Magnitude for {n-1} first freqs. after first one\")\n",
    "plt.tight_layout()\n",
    "plt.show()"
   ]
  },
  {
   "cell_type": "markdown",
   "id": "ba686a8c",
   "metadata": {},
   "source": [
    "Let's try to fit a power law and use it to apply local means on specific regions"
   ]
  },
  {
   "cell_type": "code",
   "execution_count": null,
   "id": "e17dffda",
   "metadata": {},
   "outputs": [],
   "source": [
    "x_tmp = np.log(f_after_first(y.size, n))\n",
    "y_tmp = np.log(mag[1:n])"
   ]
  },
  {
   "cell_type": "code",
   "execution_count": null,
   "id": "c6b80a30",
   "metadata": {},
   "outputs": [],
   "source": [
    "slope, intercept, r_value, p_value, std_err = stats.linregress(x_tmp, y_tmp)\n",
    "print(slope, intercept, r_value, p_value, std_err)"
   ]
  },
  {
   "cell_type": "code",
   "execution_count": null,
   "id": "0800939e",
   "metadata": {},
   "outputs": [],
   "source": [
    "n = 20000  # number of frequencies to show\n",
    "\n",
    "plt.plot(f_after_first(y.size, n),\n",
    "         np.exp(slope*x_tmp + intercept),\n",
    "         label=\"Linear regression 'using log'\")\n",
    "\n",
    "plt.loglog(f_after_first(y.size, n), mag[1:n],\n",
    "          alpha=0.2)\n",
    "\n",
    "plt.xlabel(\"Frequency [$hour^{-1}$]\")\n",
    "plt.title(f\"Log log plot: Magnitude for {n-1} first freqs. after first one\")\n",
    "plt.tight_layout()\n",
    "plt.show()"
   ]
  },
  {
   "cell_type": "code",
   "execution_count": null,
   "id": "8cdb40bc",
   "metadata": {},
   "outputs": [],
   "source": [
    "n = 20000  # number of frequencies to show\n",
    "\n",
    "plt.plot(f_after_first(y.size, n),\n",
    "         np.exp(slope*x_tmp + intercept),\n",
    "         label=\"Linear regression 'using log'\")\n",
    "\n",
    "plt.plot(f_after_first(y.size, n), mag[1:n], alpha=0.3)\n",
    "\n",
    "plt.xlabel(\"Frequency [$hour^{-1}$]\")\n",
    "plt.title(f\"Magnitude for {n-1} first freqs. after first one\")\n",
    "plt.show()"
   ]
  },
  {
   "cell_type": "markdown",
   "id": "da39f4d6",
   "metadata": {},
   "source": [
    "## Convolution with box filter in Fourier domain\n",
    "\n",
    "TODO: we wanted to kill the spikes in the magnitude and reconstruct back the signal"
   ]
  },
  {
   "cell_type": "markdown",
   "id": "70e7d29b",
   "metadata": {},
   "source": [
    "- Over the whole Fourier domain"
   ]
  },
  {
   "cell_type": "code",
   "execution_count": null,
   "id": "5d9c4314",
   "metadata": {},
   "outputs": [],
   "source": [
    "window_size = 100\n",
    "mag_convolved = np.convolve(mag, np.ones(window_size)/window_size, \"same\")\n",
    "# TODO: only do it for the big spikes and try with different window lengths\n",
    "# TODO: be careful about padding !!"
   ]
  },
  {
   "cell_type": "code",
   "execution_count": null,
   "id": "e7c9e8a5",
   "metadata": {},
   "outputs": [],
   "source": [
    "n = 20000  # number of frequencies to show\n",
    "\n",
    "plot_quantity_wo_first_freq(mag, \"Magnitude\", y.size, n=n)\n",
    "plot_quantity_wo_first_freq(mag_convolved, \"Magnitude convolved\", y.size, n=n)"
   ]
  },
  {
   "cell_type": "code",
   "execution_count": null,
   "id": "d0e48201",
   "metadata": {},
   "outputs": [],
   "source": [
    "t.shape, mag.shape"
   ]
  },
  {
   "cell_type": "code",
   "execution_count": null,
   "id": "55536edc",
   "metadata": {},
   "outputs": [],
   "source": [
    "reconstructed = np.fft.irfft(mag_convolved*np.exp(1j*np.angle(fft_res)), n=y.size)"
   ]
  },
  {
   "cell_type": "code",
   "execution_count": null,
   "id": "9671a261",
   "metadata": {},
   "outputs": [],
   "source": [
    "reconstructed.shape"
   ]
  },
  {
   "cell_type": "code",
   "execution_count": null,
   "id": "6361abdd",
   "metadata": {},
   "outputs": [],
   "source": [
    "plt.plot(reconstructed[:100000])\n",
    "plt.plot(y[:100000], 'k', alpha=0.1)"
   ]
  },
  {
   "cell_type": "code",
   "execution_count": null,
   "id": "f202026a",
   "metadata": {},
   "outputs": [],
   "source": [
    "fft_res.shape"
   ]
  },
  {
   "cell_type": "code",
   "execution_count": null,
   "id": "0a06c661",
   "metadata": {},
   "outputs": [],
   "source": [
    "plt.plot(t, reconstructed, 'r', alpha=0.5, label=\"reconstructed\")\n",
    "plt.plot(t, y, 'g', alpha=0.1, label=\"light curve\")\n",
    "plt.xlabel(\"Quantized Shifted Tunix [s]\")\n",
    "plt.ylabel(\"Avg Rate [Hz]\")  # nb. photons per seconds (averaged over each bin)\n",
    "plt.show()"
   ]
  },
  {
   "cell_type": "markdown",
   "id": "6a4aa61a",
   "metadata": {},
   "source": [
    "Values below zero doesn't make any sense physically (counts)"
   ]
  },
  {
   "cell_type": "code",
   "execution_count": null,
   "id": "f10fe32c",
   "metadata": {},
   "outputs": [],
   "source": [
    "reconstructed.size"
   ]
  },
  {
   "cell_type": "code",
   "execution_count": null,
   "id": "68f42efb",
   "metadata": {},
   "outputs": [],
   "source": [
    "y.size"
   ]
  },
  {
   "cell_type": "code",
   "execution_count": null,
   "id": "b6c46e61",
   "metadata": {},
   "outputs": [],
   "source": [
    "print(t.min(), t.max())  # TODO: need to take this into account "
   ]
  },
  {
   "cell_type": "code",
   "execution_count": null,
   "id": "10d64fbe",
   "metadata": {},
   "outputs": [],
   "source": []
  },
  {
   "cell_type": "code",
   "execution_count": null,
   "id": "4384c826",
   "metadata": {},
   "outputs": [],
   "source": []
  },
  {
   "cell_type": "markdown",
   "id": "34b29806",
   "metadata": {},
   "source": [
    "## Killing low frequencies instead\n",
    "\n",
    "\n",
    "TODO: we wanted to kill the spikes in the magnitude and reconstruct back the signal but now we want to keep most them except the beginning.."
   ]
  },
  {
   "cell_type": "code",
   "execution_count": null,
   "id": "a4a7cf93",
   "metadata": {},
   "outputs": [],
   "source": [
    "fig2, axs2 = plt.subplots(1, 2, figsize=(12, 5), sharey=True)\n",
    "plot_quantity_wrt_freqs(axs2[0], mag, \"Magnitude\", y.size, low_n=1, high_n=None)\n",
    "plot_quantity_wrt_freqs(axs2[1], mag, \"Magnitude\", y.size, low_n=1, high_n=n)\n",
    "\n",
    "axs2[1].plot(f_after_first(y.size, n), np.ones(n-1)*0.64*1e9)  # threshold placed visually..\n",
    "plt.tight_layout()\n",
    "plt.show()"
   ]
  },
  {
   "cell_type": "code",
   "execution_count": null,
   "id": "f828df52",
   "metadata": {},
   "outputs": [],
   "source": [
    "plt.plot(freqs_hour[:n], mag[:n] > 0.64*1e9)"
   ]
  },
  {
   "cell_type": "markdown",
   "id": "5f8e5002",
   "metadata": {},
   "source": [
    "Want to cut at least up to $2.2$ (will cut up to the next peak)"
   ]
  },
  {
   "cell_type": "code",
   "execution_count": null,
   "id": "fe390137",
   "metadata": {},
   "outputs": [],
   "source": [
    "threshold = 3"
   ]
  },
  {
   "cell_type": "code",
   "execution_count": null,
   "id": "36ba16b1",
   "metadata": {},
   "outputs": [],
   "source": [
    "cropped_fft_res = copy.deepcopy(fft_res)\n",
    "cropped_fft_res[freqs_hour<=threshold] = 0\n",
    "cropped_fft_res[:np.argmax(np.abs(cropped_fft_res)>0.64*1e9)] = 0"
   ]
  },
  {
   "cell_type": "code",
   "execution_count": null,
   "id": "c3e73e8e",
   "metadata": {},
   "outputs": [],
   "source": [
    "freqs"
   ]
  },
  {
   "cell_type": "code",
   "execution_count": null,
   "id": "12c8766c",
   "metadata": {},
   "outputs": [],
   "source": [
    "fig2, axs2 = plt.subplots(1, 2, figsize=(12, 5), sharey=True)\n",
    "plot_quantity_wrt_freqs(axs2[0], np.abs(cropped_fft_res), \"Filtered magnitude\", y.size, low_n=1, high_n=None)\n",
    "plot_quantity_wrt_freqs(axs2[1], np.abs(cropped_fft_res), \"Filtered magnitude\", y.size, low_n=1, high_n=n)\n",
    "\n",
    "axs2[1].plot(f_after_first(y.size, n), np.ones(n-1)*0.64*1e9)  # threshold placed visually..\n",
    "plt.tight_layout()\n",
    "plt.show()"
   ]
  },
  {
   "cell_type": "markdown",
   "id": "b98049be",
   "metadata": {},
   "source": [
    "- Apply Fourier synthesis to get back a reconstructed signal."
   ]
  },
  {
   "cell_type": "code",
   "execution_count": null,
   "id": "a030f388",
   "metadata": {},
   "outputs": [],
   "source": [
    "y_hat = np.fft.irfft(cropped_fft_res, n=y.size)\n",
    "\n",
    "plt.plot(t, y_hat, 'r', alpha=0.5)\n",
    "plt.plot(t, y, 'g', alpha=0.1)\n",
    "plt.show()"
   ]
  },
  {
   "cell_type": "code",
   "execution_count": null,
   "id": "f2413626",
   "metadata": {},
   "outputs": [],
   "source": [
    "# Mask used to select a portion of the mission\n",
    "mask = (t>(5000+1482032854-tunix_min)) & (t<(20000+1482032854-tunix_min))\n",
    "\n",
    "plt.plot(t[mask], y[mask], '-g', linewidth=0.1)\n",
    "plt.plot(t[mask], y_hat[mask], 'r', alpha=0.5)\n",
    "plt.xlabel(\"Quantized Shifted Tunix [s]\")\n",
    "plt.ylabel(\"Avg Rate [Hz]\")  # nb. photons per seconds (averaged over each bin)\n",
    "plt.show()"
   ]
  },
  {
   "cell_type": "markdown",
   "id": "bf941b7a",
   "metadata": {},
   "source": [
    "## "
   ]
  },
  {
   "cell_type": "code",
   "execution_count": null,
   "id": "6aeaa06e",
   "metadata": {},
   "outputs": [],
   "source": []
  }
 ],
 "metadata": {
  "kernelspec": {
   "display_name": "my-virtualenv-name",
   "language": "python",
   "name": "my-virtualenv-name"
  },
  "language_info": {
   "codemirror_mode": {
    "name": "ipython",
    "version": 3
   },
   "file_extension": ".py",
   "mimetype": "text/x-python",
   "name": "python",
   "nbconvert_exporter": "python",
   "pygments_lexer": "ipython3",
   "version": "3.10.12"
  }
 },
 "nbformat": 4,
 "nbformat_minor": 5
}
